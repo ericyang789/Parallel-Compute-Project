{
 "cells": [
  {
   "cell_type": "markdown",
   "metadata": {},
   "source": [
    "# Python tSNE implimentation"
   ]
  },
  {
   "cell_type": "code",
   "execution_count": 9,
   "metadata": {},
   "outputs": [],
   "source": [
    "import numpy as np\n",
    "import pandas as pd\n",
    "import matplotlib.pyplot as plt\n",
    "import scipy.optimize                # the SciPy function minimizers\n",
    "from sklearn.manifold import TSNE    # scikit-learn's t-SNE implementation\n",
    "import idx2numpy\n",
    "import time\n",
    "%matplotlib notebook"
   ]
  },
  {
   "cell_type": "code",
   "execution_count": 10,
   "metadata": {},
   "outputs": [],
   "source": [
    "def calc_pji(D, sigmas):\n",
    "    M   = D.shape[0]           # M = number of rows, samples\n",
    "    pji = np.zeros((M,M))\n",
    "    for i in range(M):\n",
    "        for j in range(M):     # it's not symmetric, because of sigma_i\n",
    "            pji[i,j] = np.exp(-D[i,j]**2 / (2 * sigmas[i]**2)) if j != i else 0.0\n",
    "        Z = np.sum(pji[i])\n",
    "        pji[i] = pji[i] / Z\n",
    "    return pji    "
   ]
  },
  {
   "cell_type": "code",
   "execution_count": 11,
   "metadata": {},
   "outputs": [],
   "source": [
    "def calc_D(X):\n",
    "    M = X.shape[0]       # ncells\n",
    "    D = np.zeros((M,M))\n",
    "    for i in range(M):\n",
    "        for j in range(0,i):\n",
    "            D[i,j] = np.linalg.norm(X[i] - X[j])\n",
    "            D[j,i] = D[i,j]\n",
    "    return D"
   ]
  },
  {
   "cell_type": "code",
   "execution_count": 16,
   "metadata": {},
   "outputs": [],
   "source": [
    "def calc_perplexity_diff(sigmai, Di, target_perplexity):   # <Di> is one row of the distance matrix.\n",
    "    pji = np.exp( -Di**2 / (2 * sigmai**2))\n",
    "    Z   = np.sum(pji)\n",
    "    pji = pji / Z\n",
    "\n",
    "    H = 0                     # the Shannon entropy calculation for the p_j|i given this sigma_i value\n",
    "    for j in range(len(Di)):\n",
    "        if pji[j] > 0:\n",
    "            H -= pji[j] * np.log2(pji[j])\n",
    "\n",
    "    perplexity = 2**H\n",
    "    return perplexity - target_perplexity"
   ]
  },
  {
   "cell_type": "code",
   "execution_count": 18,
   "metadata": {},
   "outputs": [],
   "source": [
    "def calc_sigmas(D, target_perplexity):\n",
    "    M     = D.shape[0]\n",
    "    sigma = np.zeros(M)\n",
    "    for i in range(M):\n",
    "        a, b = 1.0, 1.0   # Start testing a,b at 1.0\n",
    "        while calc_perplexity_diff(a, D[i], target_perplexity) >= 0: a /= 2    # Move a in 0.5x steps until f(a) < 0\n",
    "        while calc_perplexity_diff(b, D[i], target_perplexity) <= 0: b *= 2    #  ... b in 2x steps until f(a) > 0\n",
    "        sigma[i] = scipy.optimize.bisect(calc_perplexity_diff, a, b, args=(D[i],target_perplexity))\n",
    "    return sigma"
   ]
  },
  {
   "cell_type": "code",
   "execution_count": 19,
   "metadata": {},
   "outputs": [],
   "source": [
    "def calc_P(X, target_perplexity):\n",
    "    D      = calc_D(X)\n",
    "    sigmas = calc_sigmas(D, target_perplexity)\n",
    "    pji    = calc_pji(D, sigmas)\n",
    "    P      = (pji + pji.T) / (2 * X.shape[0])\n",
    "    return P"
   ]
  },
  {
   "cell_type": "code",
   "execution_count": 20,
   "metadata": {},
   "outputs": [],
   "source": [
    "def calc_Q(Y):\n",
    "    M = Y.shape[0]\n",
    "    Q = np.zeros((M,M))\n",
    "    Z = 0.\n",
    "    for i in range(M):\n",
    "        for j in range(i):  # This nested for loop leaves q_ii at zero.\n",
    "            Q[i,j] = 1.0 / (1 + np.linalg.norm( Y[i] - Y[j] )**2)   # the t distribution, or Cauchy\n",
    "            Q[j,i] = Q[i,j]\n",
    "            Z += 2*Q[i,j]\n",
    "    Q = Q / Z\n",
    "    return Q"
   ]
  },
  {
   "cell_type": "code",
   "execution_count": 21,
   "metadata": {},
   "outputs": [],
   "source": [
    "def KL_dist(Y, P):\n",
    "    M      = P.shape[0]\n",
    "    L      = len(Y) // M\n",
    "    Y      = np.reshape(Y, (M,L))    # scipy treats Y is a vector; reshape it to an Mx2 matrix\n",
    "    Q      = calc_Q(Y)\n",
    "    kldist = 0.\n",
    "    grad   = np.zeros((M, L))        # from our perspective, the gradient is an Mx2 matrix\n",
    "\n",
    "    # The objective function is KL(P||Q)\n",
    "    for i in range(M):\n",
    "        for j in range(M):\n",
    "            if P[i,j] > 0:\n",
    "                kldist += P[i,j] * np.log( P[i,j] / Q[i,j] )\n",
    "\n",
    "    # The gradient is defined on p. 2584 of van der Maaten (2008);\n",
    "    # the derivation is in their appendix.\n",
    "    for i in range(M):\n",
    "        for j in range(M):\n",
    "            grad[i] += (P[i,j] - Q[i,j]) * (Y[i] - Y[j]) * (1.0 / (1 + np.linalg.norm( Y[i] - Y[j] )**2))\n",
    "        grad[i] *= 4.0\n",
    "\n",
    "    return kldist, grad.flatten()    # .flatten(), because SciPy wants to see that gradient just as a vector.\n"
   ]
  },
  {
   "cell_type": "code",
   "execution_count": 22,
   "metadata": {},
   "outputs": [],
   "source": [
    "def my_tsne(X, target_perplexity):\n",
    "    P = calc_P(X, target_perplexity)\n",
    "    Y = np.random.normal(0., 1e-4, (X.shape[0], 2))   # random initial Y is drawn Normal(0, 1e-4 I)\n",
    "    \n",
    "    result = scipy.optimize.minimize(KL_dist, Y.flatten(), args=(P), jac=True)\n",
    "    # Explication of what we pass to the minimizer:\n",
    "    #  KL_dist is the objective function.\n",
    "    #  Y.flatten() is our initial point Y, flattened to a single vector for SciPy's consumption.\n",
    "    #  args=(P) is the interface for handing SciPy a bundle of constant additional data that it needs to pass to the\n",
    "    #           objective function; here, the stochastic neighbor distribution in the original space that we're \n",
    "    #           trying to match\n",
    "    # jac=True is the poorly-documented way of telling SciPy that our objective function is going to return both\n",
    "    #          the f(Y) value and the f'(Y) gradient. \"jac\" means Jacobian matrix. The other way to do this\n",
    "    #          is to pass the name of a function that calculates the gradient, i.e. jac=my_gradient_func\n",
    "    # \n",
    "    # When the minimizer returns, it passes a tuple of information back. \n",
    "    # The parts we care about are:\n",
    "    #    result.x        The optimized solution -- our embedded Y coordinates, as a Mx2-long vector that we'll reshape.\n",
    "    #    result.success  True if the minimizer succeeded. We ought to check this.\n",
    "    #    result.fun      The objective function value at the solution. \n",
    "    #    result.nit      Number of iterations it took\n",
    "\n",
    "    Y = result.x.reshape(X.shape[0], 2)\n",
    "    print (result.success)\n",
    "    print (result.nit)\n",
    "    \n",
    "    return Y, result.fun   # Return the Y points embedded by t-SNE; and the KL distance. "
   ]
  },
  {
   "cell_type": "code",
   "execution_count": 26,
   "metadata": {},
   "outputs": [],
   "source": [
    "def pca(X=np.array([]), no_dims=50):\n",
    "    \"\"\"\n",
    "        Runs PCA on the NxD array X in order to reduce its dimensionality to\n",
    "        no_dims dimensions.\n",
    "    \"\"\"\n",
    "    (n, d) = X.shape\n",
    "\n",
    "    X = X - np.tile(np.mean(X, 0), (n, 1))\n",
    "    \n",
    "    (l, M) = np.linalg.eig(np.dot(X.T, X))\n",
    "    Y = np.dot(np.dot(X, M[:, 0:no_dims]),M[:, 0:no_dims].T)\n",
    "    return Y\n",
    "\n"
   ]
  },
  {
   "cell_type": "code",
   "execution_count": 36,
   "metadata": {},
   "outputs": [
    {
     "name": "stdout",
     "output_type": "stream",
     "text": [
      "Preprocessing the data using PCA...\n",
      "True\n",
      "0\n",
      "--- 589.6153552532196 seconds ---\n"
     ]
    },
    {
     "data": {
      "text/plain": [
       "3.7687098751895793"
      ]
     },
     "execution_count": 36,
     "metadata": {},
     "output_type": "execute_result"
    }
   ],
   "source": [
    "start_time = time.time()\n",
    "X = idx2numpy.convert_from_file('../data/t10k-images.idx3-ubyte')[0:2500,:,:]\n",
    "M, h, w = X.shape\n",
    "N = h*w\n",
    "X = X.reshape((M,N))\n",
    "X = X/255.0\n",
    "X = pca(X, 50).real\n",
    "target_perplexity = 5.0\n",
    "Y, KLdist = my_tsne(X, target_perplexity)\n",
    "print(\"--- %s seconds ---\" % (time.time() - start_time))\n",
    "KLdist"
   ]
  },
  {
   "cell_type": "code",
   "execution_count": 37,
   "metadata": {},
   "outputs": [
    {
     "name": "stdout",
     "output_type": "stream",
     "text": [
      "Preprocessing the data using PCA...\n",
      "True\n",
      "0\n",
      "For 100 --- 1.242521047592163 seconds ---\n"
     ]
    }
   ],
   "source": [
    "start_time = time.time()\n",
    "X = idx2numpy.convert_from_file('../data/t10k-images.idx3-ubyte')[0:100,:,:]\n",
    "M, h, w = X.shape\n",
    "N = h*w\n",
    "X = X.reshape((M,N))\n",
    "X = X/255.0\n",
    "X = pca(X, 50).real\n",
    "target_perplexity = 5.0\n",
    "Y, KLdist = my_tsne(X, target_perplexity)\n",
    "print(\"For 100 --- %s seconds ---\" % (time.time() - start_time))"
   ]
  },
  {
   "cell_type": "code",
   "execution_count": 38,
   "metadata": {},
   "outputs": [
    {
     "name": "stdout",
     "output_type": "stream",
     "text": [
      "Preprocessing the data using PCA...\n",
      "True\n",
      "0\n",
      "For 400 --- 15.477382898330688 seconds ---\n"
     ]
    }
   ],
   "source": [
    "start_time = time.time()\n",
    "X = idx2numpy.convert_from_file('../data/t10k-images.idx3-ubyte')[0:400,:,:]\n",
    "M, h, w = X.shape\n",
    "N = h*w\n",
    "X = X.reshape((M,N))\n",
    "X = X/255.0\n",
    "X = pca(X, 50).real\n",
    "target_perplexity = 5.0\n",
    "Y, KLdist = my_tsne(X, target_perplexity)\n",
    "print(\"For 400 --- %s seconds ---\" % (time.time() - start_time))\n",
    "\n"
   ]
  },
  {
   "cell_type": "code",
   "execution_count": 39,
   "metadata": {},
   "outputs": [
    {
     "name": "stdout",
     "output_type": "stream",
     "text": [
      "Preprocessing the data using PCA...\n",
      "True\n",
      "0\n",
      "For 1000 --- 94.91009283065796 seconds ---\n"
     ]
    }
   ],
   "source": [
    "start_time = time.time()\n",
    "X = idx2numpy.convert_from_file('../data/t10k-images.idx3-ubyte')[0:1000,:,:]\n",
    "M, h, w = X.shape\n",
    "N = h*w\n",
    "X = X.reshape((M,N))\n",
    "X = X/255.0\n",
    "X = pca(X, 50).real\n",
    "target_perplexity = 5.0\n",
    "Y, KLdist = my_tsne(X, target_perplexity)\n",
    "print(\"For 1000 --- %s seconds ---\" % (time.time() - start_time))\n"
   ]
  },
  {
   "cell_type": "code",
   "execution_count": 40,
   "metadata": {},
   "outputs": [
    {
     "name": "stdout",
     "output_type": "stream",
     "text": [
      "Preprocessing the data using PCA...\n",
      "True\n",
      "0\n",
      "For 4000 --- 1491.2436559200287 seconds ---\n"
     ]
    }
   ],
   "source": [
    "start_time = time.time()\n",
    "X = idx2numpy.convert_from_file('../data/t10k-images.idx3-ubyte')[0:4000,:,:]\n",
    "M, h, w = X.shape\n",
    "N = h*w\n",
    "X = X.reshape((M,N))\n",
    "X = X/255.0\n",
    "X = pca(X, 50).real\n",
    "target_perplexity = 5.0\n",
    "Y, KLdist = my_tsne(X, target_perplexity)\n",
    "print(\"For 4000 --- %s seconds ---\" % (time.time() - start_time))\n"
   ]
  },
  {
   "cell_type": "code",
   "execution_count": 41,
   "metadata": {},
   "outputs": [
    {
     "name": "stdout",
     "output_type": "stream",
     "text": [
      "Preprocessing the data using PCA...\n",
      "True\n",
      "0\n",
      "For 8000 --- 5938.582994937897 seconds ---\n"
     ]
    }
   ],
   "source": [
    "start_time = time.time()\n",
    "X = idx2numpy.convert_from_file('../data/t10k-images.idx3-ubyte')[0:8000,:,:]\n",
    "M, h, w = X.shape\n",
    "N = h*w\n",
    "X = X.reshape((M,N))\n",
    "X = X/255.0\n",
    "X = pca(X, 50).real\n",
    "target_perplexity = 5.0\n",
    "Y, KLdist = my_tsne(X, target_perplexity)\n",
    "print(\"For 8000 --- %s seconds ---\" % (time.time() - start_time))\n"
   ]
  },
  {
   "cell_type": "code",
   "execution_count": 46,
   "metadata": {},
   "outputs": [],
   "source": [
    "sample_size=[100,400,1000,4000,8000]\n",
    "runtimes=[1.242521047592163,15.477382898330688,94.91009283065796,1491.2436559200287,5938.582994937897]\n",
    "plt.plot(sample_size,runtimes)\n",
    "plt.xlabel('M (sample size)')\n",
    "plt.ylabel('Runtime (s)')\n",
    "plt.title('Python runtime for t-SNE against problem size')\n",
    "plt.show()"
   ]
  }
 ],
 "metadata": {
  "kernelspec": {
   "display_name": "Python 3",
   "language": "python",
   "name": "python3"
  },
  "language_info": {
   "codemirror_mode": {
    "name": "ipython",
    "version": 3
   },
   "file_extension": ".py",
   "mimetype": "text/x-python",
   "name": "python",
   "nbconvert_exporter": "python",
   "pygments_lexer": "ipython3",
   "version": "3.8.3"
  }
 },
 "nbformat": 4,
 "nbformat_minor": 2
}
